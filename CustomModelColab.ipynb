{
  "cells": [
    {
      "cell_type": "code",
      "execution_count": 1,
      "metadata": {
        "colab": {
          "base_uri": "https://localhost:8080/"
        },
        "id": "VxkxJ7nbiCn4",
        "outputId": "0a78614b-289b-4893-c0fd-3fb891e46146"
      },
      "outputs": [
        {
          "name": "stdout",
          "output_type": "stream",
          "text": [
            "\n",
            "WARNING: apt does not have a stable CLI interface. Use with caution in scripts.\n",
            "\n",
            "debconf: unable to initialize frontend: Dialog\n",
            "debconf: (No usable dialog-like program is installed, so the dialog based frontend cannot be used. at /usr/share/perl5/Debconf/FrontEnd/Dialog.pm line 76, <> line 1.)\n",
            "debconf: falling back to frontend: Readline\n",
            "debconf: unable to initialize frontend: Readline\n",
            "debconf: (This frontend requires a controlling tty.)\n",
            "debconf: falling back to frontend: Teletype\n",
            "dpkg-preconfigure: unable to re-open stdin: \n",
            "/usr/bin/xdg-open: 869: www-browser: not found\n",
            "/usr/bin/xdg-open: 869: links2: not found\n",
            "/usr/bin/xdg-open: 869: elinks: not found\n",
            "/usr/bin/xdg-open: 869: links: not found\n",
            "/usr/bin/xdg-open: 869: lynx: not found\n",
            "/usr/bin/xdg-open: 869: w3m: not found\n",
            "xdg-open: no method available for opening 'https://accounts.google.com/o/oauth2/auth?client_id=564921029129.apps.googleusercontent.com&redirect_uri=https%3A%2F%2Fgd-ocaml-auth.appspot.com%2Foauth2callback&scope=https%3A%2F%2Fwww.googleapis.com%2Fauth%2Fdrive&response_type=code&access_type=offline&approval_prompt=force&state=HDewY6AciTIUCQycElncFtUK4X3yaCK1HnULtYiKxAg'\n",
            "/bin/sh: 1: firefox: not found\n",
            "/bin/sh: 1: google-chrome: not found\n",
            "/bin/sh: 1: chromium-browser: not found\n",
            "/bin/sh: 1: open: not found\n",
            "Cannot retrieve auth tokens.\n",
            "Failure(\"Error opening URL:https://accounts.google.com/o/oauth2/auth?client_id=564921029129.apps.googleusercontent.com&redirect_uri=https%3A%2F%2Fgd-ocaml-auth.appspot.com%2Foauth2callback&scope=https%3A%2F%2Fwww.googleapis.com%2Fauth%2Fdrive&response_type=code&access_type=offline&approval_prompt=force&state=HDewY6AciTIUCQycElncFtUK4X3yaCK1HnULtYiKxAg\")\n"
          ]
        }
      ],
      "source": [
        "!sudo add-apt-repository -y ppa:alessandro-strada/ppa 2>&1 > /dev/null\n",
        "!sudo apt-get update -qq 2>&1 > /dev/null\n",
        "!sudo apt -y install -qq google-drive-ocamlfuse 2>&1 > /dev/null\n",
        "!google-drive-ocamlfuse"
      ]
    },
    {
      "cell_type": "code",
      "execution_count": 2,
      "metadata": {
        "colab": {
          "base_uri": "https://localhost:8080/"
        },
        "id": "drLEkguWiDgX",
        "outputId": "f315905a-6dc3-4cc2-c358-431b51abb309"
      },
      "outputs": [
        {
          "name": "stdout",
          "output_type": "stream",
          "text": [
            "debconf: unable to initialize frontend: Dialog\n",
            "debconf: (No usable dialog-like program is installed, so the dialog based frontend cannot be used. at /usr/share/perl5/Debconf/FrontEnd/Dialog.pm line 76, <> line 1.)\n",
            "debconf: falling back to frontend: Readline\n",
            "debconf: unable to initialize frontend: Readline\n",
            "debconf: (This frontend requires a controlling tty.)\n",
            "debconf: falling back to frontend: Teletype\n",
            "dpkg-preconfigure: unable to re-open stdin: \n",
            "Selecting previously unselected package w3m.\n",
            "(Reading database ... \r(Reading database ... 5%\r(Reading database ... 10%\r(Reading database ... 15%\r(Reading database ... 20%\r(Reading database ... 25%\r(Reading database ... 30%\r(Reading database ... 35%\r(Reading database ... 40%\r(Reading database ... 45%\r(Reading database ... 50%\r(Reading database ... 55%\r(Reading database ... 60%\r(Reading database ... 65%\r(Reading database ... 70%\r(Reading database ... 75%\r(Reading database ... 80%\r(Reading database ... 85%\r(Reading database ... 90%\r(Reading database ... 95%\r(Reading database ... 100%\r(Reading database ... 122354 files and directories currently installed.)\n",
            "Preparing to unpack .../w3m_0.5.3-37ubuntu0.1_amd64.deb ...\n",
            "Unpacking w3m (0.5.3-37ubuntu0.1) ...\n",
            "Setting up w3m (0.5.3-37ubuntu0.1) ...\n",
            "Processing triggers for man-db (2.9.1-1) ...\n",
            "Processing triggers for mime-support (3.64ubuntu1) ...\n",
            "/content\n",
            "/content/drive\n",
            "/content\n",
            "/\n",
            "Access token retrieved correctly.\n"
          ]
        }
      ],
      "source": [
        "!sudo apt-get install -qq w3m # to act as web browser \n",
        "!xdg-settings set default-web-browser w3m.desktop # to set default browser\n",
        "%cd /content\n",
        "!mkdir drive\n",
        "%cd drive\n",
        "!mkdir MyDrive\n",
        "%cd ..\n",
        "%cd ..\n",
        "!google-drive-ocamlfuse /content/drive/MyDrive"
      ]
    },
    {
      "cell_type": "code",
      "execution_count": 3,
      "metadata": {
        "id": "FbAooJCHoR95"
      },
      "outputs": [],
      "source": [
        "import numpy"
      ]
    },
    {
      "cell_type": "code",
      "execution_count": 4,
      "metadata": {
        "id": "Mm78Bnx2oj7G"
      },
      "outputs": [],
      "source": [
        "# re-size all the images to this\n",
        "IMAGE_SIZE = [512, 512]\n",
        "\n",
        "train_path = '/content/drive/MyDrive/MIMIA/Covid19-dataset/train'\n",
        "valid_path = '/content/drive/MyDrive/MIMIA/Covid19-dataset/test'"
      ]
    },
    {
      "cell_type": "code",
      "execution_count": 5,
      "metadata": {
        "id": "4pnXVizQorG8"
      },
      "outputs": [],
      "source": [
        "from tensorflow.keras.layers import Input, Lambda, Dense, Flatten,Dropout,Conv2D,MaxPooling2D\n",
        "from tensorflow.keras.models import Model\n",
        "from tensorflow.keras.preprocessing import image\n",
        "from sklearn.metrics import accuracy_score,classification_report,confusion_matrix\n",
        "from tensorflow.keras.preprocessing.image import ImageDataGenerator\n",
        "from sklearn.model_selection import train_test_split\n",
        "from tensorflow.keras.models import Sequential\n",
        "from tensorflow.keras.layers import BatchNormalization\n",
        "import numpy as np\n",
        "import pandas as pd\n",
        "import matplotlib.pyplot as plt"
      ]
    },
    {
      "cell_type": "code",
      "execution_count": 6,
      "metadata": {
        "colab": {
          "base_uri": "https://localhost:8080/"
        },
        "id": "Wd38ghYtouO5",
        "outputId": "20c9a575-775e-4b02-f6e7-9c5850523baf"
      },
      "outputs": [
        {
          "name": "stdout",
          "output_type": "stream",
          "text": [
            "Model: \"sequential\"\n",
            "_________________________________________________________________\n",
            " Layer (type)                Output Shape              Param #   \n",
            "=================================================================\n",
            " conv2d (Conv2D)             (None, 510, 510, 64)      1792      \n",
            "                                                                 \n",
            " max_pooling2d (MaxPooling2D  (None, 255, 255, 64)     0         \n",
            " )                                                               \n",
            "                                                                 \n",
            " batch_normalization (BatchN  (None, 255, 255, 64)     256       \n",
            " ormalization)                                                   \n",
            "                                                                 \n",
            " conv2d_1 (Conv2D)           (None, 253, 253, 32)      18464     \n",
            "                                                                 \n",
            " max_pooling2d_1 (MaxPooling  (None, 126, 126, 32)     0         \n",
            " 2D)                                                             \n",
            "                                                                 \n",
            " batch_normalization_1 (Batc  (None, 126, 126, 32)     128       \n",
            " hNormalization)                                                 \n",
            "                                                                 \n",
            " conv2d_2 (Conv2D)           (None, 124, 124, 64)      18496     \n",
            "                                                                 \n",
            " max_pooling2d_2 (MaxPooling  (None, 62, 62, 64)       0         \n",
            " 2D)                                                             \n",
            "                                                                 \n",
            " batch_normalization_2 (Batc  (None, 62, 62, 64)       256       \n",
            " hNormalization)                                                 \n",
            "                                                                 \n",
            " conv2d_3 (Conv2D)           (None, 60, 60, 64)        36928     \n",
            "                                                                 \n",
            " max_pooling2d_3 (MaxPooling  (None, 30, 30, 64)       0         \n",
            " 2D)                                                             \n",
            "                                                                 \n",
            " batch_normalization_3 (Batc  (None, 30, 30, 64)       256       \n",
            " hNormalization)                                                 \n",
            "                                                                 \n",
            " flatten (Flatten)           (None, 57600)             0         \n",
            "                                                                 \n",
            " dense (Dense)               (None, 3)                 172803    \n",
            "                                                                 \n",
            "=================================================================\n",
            "Total params: 249,379\n",
            "Trainable params: 248,931\n",
            "Non-trainable params: 448\n",
            "_________________________________________________________________\n"
          ]
        }
      ],
      "source": [
        "model=Sequential()\n",
        " \n",
        "\n",
        "#covolution layer\n",
        "model.add(Conv2D(64,(3,3),activation='relu',input_shape=(512,512,3)))\n",
        "#pooling layer\n",
        "model.add(MaxPooling2D(2,2))\n",
        "model.add(BatchNormalization())\n",
        "#covolution layer\n",
        "model.add(Conv2D(32,(3,3),activation='relu'))\n",
        "#pooling layer\n",
        "model.add(MaxPooling2D(2,2))\n",
        "model.add(BatchNormalization())\n",
        "#covolution layer\n",
        "model.add(Conv2D(64,(3,3),activation='relu'))\n",
        "#pooling layer\n",
        "model.add(MaxPooling2D(2,2))\n",
        "model.add(BatchNormalization())\n",
        "#covolution layer\n",
        "model.add(Conv2D(64,(3,3),activation='relu'))\n",
        "#pooling layer\n",
        "model.add(MaxPooling2D(2,2))\n",
        "model.add(BatchNormalization())\n",
        "#i/p layer\n",
        "model.add(Flatten())\n",
        "#o/p layer\n",
        "model.add(Dense(3,activation='softmax'))\n",
        "\n",
        "model.summary()"
      ]
    },
    {
      "cell_type": "code",
      "execution_count": 7,
      "metadata": {
        "id": "NH2hx1kNoyKI"
      },
      "outputs": [],
      "source": [
        "# tell the model what cost and optimization method to use\n",
        "model.compile(\n",
        "  loss='categorical_crossentropy',\n",
        "  optimizer='adam',\n",
        "  metrics=['accuracy']\n",
        ")"
      ]
    },
    {
      "cell_type": "code",
      "execution_count": 8,
      "metadata": {
        "id": "n5EroW0so1II"
      },
      "outputs": [],
      "source": [
        "# Use the Image Data Generator to import the images from the dataset\n",
        "from tensorflow.keras.preprocessing.image import ImageDataGenerator\n",
        "\n",
        "train_datagen = ImageDataGenerator(rescale = 1./255,\n",
        "                                   shear_range = 0.2,\n",
        "                                   zoom_range = 0.2,\n",
        "                                   horizontal_flip = True)\n",
        "\n",
        "test_datagen = ImageDataGenerator(rescale = 1./255)"
      ]
    },
    {
      "cell_type": "code",
      "execution_count": 9,
      "metadata": {
        "colab": {
          "base_uri": "https://localhost:8080/"
        },
        "id": "gyIiVb91o3kU",
        "outputId": "6aee48be-ecd7-47e0-d2c2-dc1d6623650e"
      },
      "outputs": [
        {
          "name": "stdout",
          "output_type": "stream",
          "text": [
            "Found 251 images belonging to 3 classes.\n"
          ]
        }
      ],
      "source": [
        "# Make sure you provide the same target size as initialied for the image size\n",
        "training_set = train_datagen.flow_from_directory('/content/drive/MyDrive/MIMIA/Covid19-dataset/train',\n",
        "                                                 target_size = (512, 512),\n",
        "                                                 batch_size = 32,\n",
        "                                                 class_mode = 'categorical')"
      ]
    },
    {
      "cell_type": "code",
      "execution_count": 10,
      "metadata": {
        "colab": {
          "base_uri": "https://localhost:8080/"
        },
        "id": "AB5t5iqIo9I0",
        "outputId": "83fc718e-eebe-4a30-dbfd-b83e919389a9"
      },
      "outputs": [
        {
          "name": "stdout",
          "output_type": "stream",
          "text": [
            "Found 66 images belonging to 3 classes.\n"
          ]
        }
      ],
      "source": [
        "test_set = test_datagen.flow_from_directory('/content/drive/MyDrive/MIMIA/Covid19-dataset/test',\n",
        "                                            target_size = (512, 512),\n",
        "                                            batch_size = 32,\n",
        "                                            class_mode = 'categorical')"
      ]
    },
    {
      "cell_type": "code",
      "execution_count": 13,
      "metadata": {
        "colab": {
          "base_uri": "https://localhost:8080/"
        },
        "id": "NRnFivMtpGaR",
        "outputId": "caf479d7-d695-4cd7-94b5-4513577628d6"
      },
      "outputs": [
        {
          "name": "stdout",
          "output_type": "stream",
          "text": [
            "Epoch 1/20\n",
            "8/8 [==============================] - 28s 3s/step - loss: 0.3949 - accuracy: 0.9363 - val_loss: 12.0591 - val_accuracy: 0.5152\n",
            "Epoch 2/20\n",
            "8/8 [==============================] - 27s 3s/step - loss: 0.6271 - accuracy: 0.9442 - val_loss: 8.4787 - val_accuracy: 0.5455\n",
            "Epoch 3/20\n",
            "8/8 [==============================] - 27s 3s/step - loss: 0.7987 - accuracy: 0.9402 - val_loss: 9.0150 - val_accuracy: 0.4848\n",
            "Epoch 4/20\n",
            "8/8 [==============================] - 26s 3s/step - loss: 0.0841 - accuracy: 0.9841 - val_loss: 10.4367 - val_accuracy: 0.5152\n",
            "Epoch 5/20\n",
            "8/8 [==============================] - 26s 3s/step - loss: 0.2621 - accuracy: 0.9641 - val_loss: 14.1337 - val_accuracy: 0.5000\n",
            "Epoch 6/20\n",
            "8/8 [==============================] - 27s 3s/step - loss: 0.3159 - accuracy: 0.9721 - val_loss: 15.1316 - val_accuracy: 0.5152\n",
            "Epoch 7/20\n",
            "8/8 [==============================] - 27s 3s/step - loss: 0.2988 - accuracy: 0.9761 - val_loss: 15.7261 - val_accuracy: 0.5152\n",
            "Epoch 8/20\n",
            "8/8 [==============================] - 26s 3s/step - loss: 0.1070 - accuracy: 0.9801 - val_loss: 13.5090 - val_accuracy: 0.5303\n",
            "Epoch 9/20\n",
            "8/8 [==============================] - 27s 3s/step - loss: 0.2584 - accuracy: 0.9801 - val_loss: 9.4851 - val_accuracy: 0.5152\n",
            "Epoch 10/20\n",
            "8/8 [==============================] - 26s 3s/step - loss: 0.2243 - accuracy: 0.9641 - val_loss: 14.3381 - val_accuracy: 0.5152\n",
            "Epoch 11/20\n",
            "8/8 [==============================] - 26s 3s/step - loss: 0.1356 - accuracy: 0.9841 - val_loss: 16.9633 - val_accuracy: 0.5152\n",
            "Epoch 12/20\n",
            "8/8 [==============================] - 30s 4s/step - loss: 0.3937 - accuracy: 0.9681 - val_loss: 17.7924 - val_accuracy: 0.5303\n",
            "Epoch 13/20\n",
            "8/8 [==============================] - 26s 3s/step - loss: 0.1642 - accuracy: 0.9721 - val_loss: 12.3380 - val_accuracy: 0.5303\n",
            "Epoch 14/20\n",
            "8/8 [==============================] - 26s 3s/step - loss: 0.3518 - accuracy: 0.9641 - val_loss: 16.1080 - val_accuracy: 0.5152\n",
            "Epoch 15/20\n",
            "8/8 [==============================] - 26s 3s/step - loss: 0.2745 - accuracy: 0.9681 - val_loss: 13.0170 - val_accuracy: 0.5152\n",
            "Epoch 16/20\n",
            "8/8 [==============================] - 26s 3s/step - loss: 0.1670 - accuracy: 0.9801 - val_loss: 14.3897 - val_accuracy: 0.5152\n",
            "Epoch 17/20\n",
            "8/8 [==============================] - 27s 3s/step - loss: 0.4863 - accuracy: 0.9562 - val_loss: 12.6644 - val_accuracy: 0.5000\n",
            "Epoch 18/20\n",
            "8/8 [==============================] - 26s 3s/step - loss: 0.3767 - accuracy: 0.9721 - val_loss: 16.8576 - val_accuracy: 0.4848\n",
            "Epoch 19/20\n",
            "8/8 [==============================] - 26s 3s/step - loss: 0.2345 - accuracy: 0.9641 - val_loss: 26.7682 - val_accuracy: 0.4242\n",
            "Epoch 20/20\n",
            "8/8 [==============================] - 27s 3s/step - loss: 0.4289 - accuracy: 0.9641 - val_loss: 21.5496 - val_accuracy: 0.4848\n"
          ]
        }
      ],
      "source": [
        "# fit the model\n",
        "# Run the cell. It will take some time to execute\n",
        "r = model.fit(\n",
        "  training_set,\n",
        "  validation_data=test_set,\n",
        "  epochs=20,\n",
        "  shuffle=True\n",
        ")"
      ]
    }
  ],
  "metadata": {
    "accelerator": "GPU",
    "colab": {
      "provenance": []
    },
    "gpuClass": "standard",
    "kernelspec": {
      "display_name": "Python 3.9.12 ('base')",
      "language": "python",
      "name": "python3"
    },
    "language_info": {
      "name": "python",
      "version": "3.9.12"
    },
    "vscode": {
      "interpreter": {
        "hash": "b03d204cf56d3a0932f693639951425326b91a064b987e7e53c553da007e0144"
      }
    }
  },
  "nbformat": 4,
  "nbformat_minor": 0
}
