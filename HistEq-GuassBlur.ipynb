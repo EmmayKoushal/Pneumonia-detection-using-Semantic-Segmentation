{
 "cells": [
  {
   "cell_type": "code",
   "execution_count": 1,
   "metadata": {},
   "outputs": [],
   "source": [
    "import numpy\n",
    "import cv2"
   ]
  },
  {
   "cell_type": "code",
   "execution_count": 2,
   "metadata": {},
   "outputs": [],
   "source": [
    "import os\n",
    "\n",
    "IMAGE_SIZE = (224,224) # CHANGING THE SIZE OF THE IMAGE HERE\n",
    "train_path = \"/home/emmaykoushal/Documents/ENGINEERING/SEM6/MIMIA/JCOMP/Covid19-dataset/train\"\n",
    "test_path = \"/home/emmaykoushal/Documents/ENGINEERING/SEM6/MIMIA/JCOMP/Covid19-dataset/test\"\n",
    "\n",
    "save_train_path = \"/home/emmaykoushal/Documents/ENGINEERING/SEM6/MIMIA/JCOMP/Covid19-dataset-HistEq-GuassBlur/train\"\n",
    "save_test_path = \"/home/emmaykoushal/Documents/ENGINEERING/SEM6/MIMIA/JCOMP/Covid19-dataset-HistEq-GuassBlur/test\"\n",
    "\n",
    "for folder in os.listdir(train_path):\n",
    "    sub_path=train_path+\"/\"+folder\n",
    "    for img in os.listdir(sub_path):\n",
    "      image_path=sub_path+\"/\"+img        \n",
    "      img_arr=cv2.imread(image_path)\n",
    "      grey = cv2.cvtColor(img_arr, cv2.COLOR_BGR2GRAY)\n",
    "\n",
    "      equ = cv2.equalizeHist(grey)                          # Histogram Equaization\n",
    "      Gaussian = cv2.GaussianBlur(equ, (7, 7), 0)           # Guassinan Blur\n",
    "      clr_img = cv2.cvtColor(Gaussian, cv2.COLOR_GRAY2BGR)\n",
    "\n",
    "      cv2.imwrite(save_train_path+\"/\"+folder+\"/\"+img, clr_img)\n",
    "\n",
    "for folder in os.listdir(test_path):\n",
    "    sub_path=test_path+\"/\"+folder\n",
    "    for img in os.listdir(sub_path):\n",
    "      image_path=sub_path+\"/\"+img        \n",
    "      img_arr=cv2.imread(image_path)\n",
    "      grey = cv2.cvtColor(img_arr, cv2.COLOR_BGR2GRAY)\n",
    "\n",
    "      equ = cv2.equalizeHist(grey)                          # Histogram Equaization\n",
    "      Gaussian = cv2.GaussianBlur(equ, (7, 7), 0)           # Guassinan Blur\n",
    "      clr_img = cv2.cvtColor(Gaussian, cv2.COLOR_GRAY2BGR)\n",
    "      \n",
    "      cv2.imwrite(save_test_path+\"/\"+folder+\"/\"+img, clr_img)"
   ]
  }
 ],
 "metadata": {
  "kernelspec": {
   "display_name": "Python 3.9.12 ('base')",
   "language": "python",
   "name": "python3"
  },
  "language_info": {
   "codemirror_mode": {
    "name": "ipython",
    "version": 3
   },
   "file_extension": ".py",
   "mimetype": "text/x-python",
   "name": "python",
   "nbconvert_exporter": "python",
   "pygments_lexer": "ipython3",
   "version": "3.9.12"
  },
  "orig_nbformat": 4,
  "vscode": {
   "interpreter": {
    "hash": "b03d204cf56d3a0932f693639951425326b91a064b987e7e53c553da007e0144"
   }
  }
 },
 "nbformat": 4,
 "nbformat_minor": 2
}
